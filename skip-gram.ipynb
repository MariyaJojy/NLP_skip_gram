{
 "cells": [
  {
   "cell_type": "code",
   "execution_count": 1,
   "metadata": {},
   "outputs": [],
   "source": [
    "import torch\n",
    "torch.manual_seed(10)\n",
    "from torch.autograd import Variable\n",
    "from torch.utils.data import DataLoader\n",
    "import pandas as pd\n",
    "import numpy as np\n",
    "from sklearn import decomposition\n",
    "from pathlib import Path\n",
    "import warnings\n",
    "warnings.filterwarnings(\"ignore\")\n",
    "import seaborn as sns\n",
    "from matplotlib import pyplot as plt\n",
    "plt.rcParams['figure.figsize'] = (10,8)\n",
    "import nltk\n",
    "#Import stopwords\n",
    "from nltk.corpus import stopwords"
   ]
  },
  {
   "cell_type": "code",
   "execution_count": 2,
   "metadata": {},
   "outputs": [],
   "source": [
    "corpus = [\n",
    "    'eat food',\n",
    "    'drink ice water',\n",
    "    'drink cold coffee',\n",
    "    'drink juice',\n",
    "    'drink cola',\n",
    "    'eat bacon',\n",
    "    'eat mango',\n",
    "    'eat cherry',\n",
    "    'eat salad',\n",
    "    'juice with sugar',\n",
    "    'cola with sugar',\n",
    "    'mango is a fruit',\n",
    "    'apple is a fruit',\n",
    "    'cherry is fruit',\n",
    "    'Berlin is in Germany',\n",
    "    'Boston is in USA',\n",
    "    'Mercedes from Germany',\n",
    "    'Germany is prosperous'\n",
    "]"
   ]
  },
  {
   "cell_type": "code",
   "execution_count": 3,
   "metadata": {},
   "outputs": [],
   "source": [
    "def create_vocabulary(corpus):\n",
    "    '''Creates a dictionary with all unique words in corpus with id'''\n",
    "    vocabulary = {}\n",
    "    i = 0\n",
    "    for s in corpus:\n",
    "        for w in s.split():\n",
    "            if w not in vocabulary:\n",
    "                vocabulary[w] = i\n",
    "                i+=1\n",
    "    return vocabulary\n"
   ]
  },
  {
   "cell_type": "code",
   "execution_count": 4,
   "metadata": {},
   "outputs": [],
   "source": [
    "def prepare_set(corpus, n_gram = 1):\n",
    "    '''Creates a dataset with Input column and Outputs columns for neighboring words. \n",
    "       The number of neighbors = n_gram*2'''\n",
    "    columns = ['Input'] + [f'Output{i+1}' for i in range(n_gram*2)]\n",
    "    result = pd.DataFrame(columns = columns)\n",
    "    for sentence in corpus:\n",
    "        for i,w in enumerate(sentence.split()):\n",
    "            inp = [w]\n",
    "            out = []\n",
    "            for n in range(1,n_gram+1):\n",
    "                # look back\n",
    "                if (i-n)>=0:\n",
    "                    out.append(sentence.split()[i-n])\n",
    "                else:\n",
    "                    out.append('<padding>')\n",
    "                \n",
    "                # look forward\n",
    "                if (i+n)<len(sentence.split()):\n",
    "                    out.append(sentence.split()[i+n])\n",
    "                else:\n",
    "                    out.append('<padding>')\n",
    "            row = pd.DataFrame([inp+out], columns = columns)\n",
    "            result = result.append(row, ignore_index = True)\n",
    "    return result\n"
   ]
  },
  {
   "cell_type": "code",
   "execution_count": 5,
   "metadata": {},
   "outputs": [],
   "source": [
    "def prepare_set_ravel(corpus, n_gram = 1):\n",
    "    '''Creates a dataset with Input column and Output column for neighboring words. \n",
    "       The number of neighbors = n_gram*2'''\n",
    "    columns = ['Input', 'Output']\n",
    "    result = pd.DataFrame(columns = columns)\n",
    "    for sentence in corpus:\n",
    "        for i,w in enumerate(sentence.split()):\n",
    "            inp = w\n",
    "            for n in range(1,n_gram+1):\n",
    "                # look back\n",
    "                if (i-n)>=0:\n",
    "                    out = sentence.split()[i-n]\n",
    "                    row = pd.DataFrame([[inp,out]], columns = columns)\n",
    "                    result = result.append(row, ignore_index = True)\n",
    "                \n",
    "                # look forward\n",
    "                if (i+n)<len(sentence.split()):\n",
    "                    out = sentence.split()[i+n]\n",
    "                    row = pd.DataFrame([[inp,out]], columns = columns)\n",
    "                    result = result.append(row, ignore_index = True)\n",
    "    return result\n"
   ]
  },
  {
   "cell_type": "code",
   "execution_count": 6,
   "metadata": {},
   "outputs": [
    {
     "data": {
      "text/plain": [
       "['eat food',\n",
       " 'drink ice water',\n",
       " 'drink cold coffee',\n",
       " 'drink juice',\n",
       " 'drink cola',\n",
       " 'eat bacon',\n",
       " 'eat mango',\n",
       " 'eat cherry',\n",
       " 'eat salad',\n",
       " 'juice sugar',\n",
       " 'cola sugar',\n",
       " 'mango fruit',\n",
       " 'apple fruit',\n",
       " 'cherry fruit',\n",
       " 'berlin germany',\n",
       " 'boston usa',\n",
       " 'mercedes germany',\n",
       " 'germany prosperous']"
      ]
     },
     "execution_count": 6,
     "metadata": {},
     "output_type": "execute_result"
    }
   ],
   "source": [
    "stop_words = set(stopwords.words('english'))\n",
    "\n",
    "def preprocess(corpus):\n",
    "    result = []\n",
    "    for i in corpus:\n",
    "        out = nltk.word_tokenize(i)\n",
    "        out = [x.lower() for x in out]\n",
    "        out = [x for x in out if x not in stop_words]\n",
    "        result.append(\" \". join(out))\n",
    "    return result\n",
    "\n",
    "corpus = preprocess(corpus)\n",
    "corpus"
   ]
  },
  {
   "cell_type": "code",
   "execution_count": 7,
   "metadata": {},
   "outputs": [
    {
     "data": {
      "text/plain": [
       "{'eat': 0,\n",
       " 'food': 1,\n",
       " 'drink': 2,\n",
       " 'ice': 3,\n",
       " 'water': 4,\n",
       " 'cold': 5,\n",
       " 'coffee': 6,\n",
       " 'juice': 7,\n",
       " 'cola': 8,\n",
       " 'bacon': 9,\n",
       " 'mango': 10,\n",
       " 'cherry': 11,\n",
       " 'salad': 12,\n",
       " 'sugar': 13,\n",
       " 'fruit': 14,\n",
       " 'apple': 15,\n",
       " 'berlin': 16,\n",
       " 'germany': 17,\n",
       " 'boston': 18,\n",
       " 'usa': 19,\n",
       " 'mercedes': 20,\n",
       " 'prosperous': 21}"
      ]
     },
     "execution_count": 7,
     "metadata": {},
     "output_type": "execute_result"
    }
   ],
   "source": [
    "vocabulary = create_vocabulary(corpus)\n",
    "vocabulary"
   ]
  },
  {
   "cell_type": "code",
   "execution_count": 8,
   "metadata": {},
   "outputs": [
    {
     "data": {
      "text/html": [
       "<div>\n",
       "<style scoped>\n",
       "    .dataframe tbody tr th:only-of-type {\n",
       "        vertical-align: middle;\n",
       "    }\n",
       "\n",
       "    .dataframe tbody tr th {\n",
       "        vertical-align: top;\n",
       "    }\n",
       "\n",
       "    .dataframe thead th {\n",
       "        text-align: right;\n",
       "    }\n",
       "</style>\n",
       "<table border=\"1\" class=\"dataframe\">\n",
       "  <thead>\n",
       "    <tr style=\"text-align: right;\">\n",
       "      <th></th>\n",
       "      <th>Input</th>\n",
       "      <th>Output1</th>\n",
       "      <th>Output2</th>\n",
       "      <th>Output3</th>\n",
       "      <th>Output4</th>\n",
       "    </tr>\n",
       "  </thead>\n",
       "  <tbody>\n",
       "    <tr>\n",
       "      <th>0</th>\n",
       "      <td>eat</td>\n",
       "      <td>&lt;padding&gt;</td>\n",
       "      <td>food</td>\n",
       "      <td>&lt;padding&gt;</td>\n",
       "      <td>&lt;padding&gt;</td>\n",
       "    </tr>\n",
       "    <tr>\n",
       "      <th>1</th>\n",
       "      <td>food</td>\n",
       "      <td>eat</td>\n",
       "      <td>&lt;padding&gt;</td>\n",
       "      <td>&lt;padding&gt;</td>\n",
       "      <td>&lt;padding&gt;</td>\n",
       "    </tr>\n",
       "    <tr>\n",
       "      <th>2</th>\n",
       "      <td>drink</td>\n",
       "      <td>&lt;padding&gt;</td>\n",
       "      <td>ice</td>\n",
       "      <td>&lt;padding&gt;</td>\n",
       "      <td>water</td>\n",
       "    </tr>\n",
       "    <tr>\n",
       "      <th>3</th>\n",
       "      <td>ice</td>\n",
       "      <td>drink</td>\n",
       "      <td>water</td>\n",
       "      <td>&lt;padding&gt;</td>\n",
       "      <td>&lt;padding&gt;</td>\n",
       "    </tr>\n",
       "    <tr>\n",
       "      <th>4</th>\n",
       "      <td>water</td>\n",
       "      <td>ice</td>\n",
       "      <td>&lt;padding&gt;</td>\n",
       "      <td>drink</td>\n",
       "      <td>&lt;padding&gt;</td>\n",
       "    </tr>\n",
       "  </tbody>\n",
       "</table>\n",
       "</div>"
      ],
      "text/plain": [
       "   Input    Output1    Output2    Output3    Output4\n",
       "0    eat  <padding>       food  <padding>  <padding>\n",
       "1   food        eat  <padding>  <padding>  <padding>\n",
       "2  drink  <padding>        ice  <padding>      water\n",
       "3    ice      drink      water  <padding>  <padding>\n",
       "4  water        ice  <padding>      drink  <padding>"
      ]
     },
     "execution_count": 8,
     "metadata": {},
     "output_type": "execute_result"
    }
   ],
   "source": [
    "train_emb = prepare_set(corpus, n_gram = 2)\n",
    "train_emb.head()"
   ]
  },
  {
   "cell_type": "code",
   "execution_count": 9,
   "metadata": {},
   "outputs": [
    {
     "data": {
      "text/html": [
       "<div>\n",
       "<style scoped>\n",
       "    .dataframe tbody tr th:only-of-type {\n",
       "        vertical-align: middle;\n",
       "    }\n",
       "\n",
       "    .dataframe tbody tr th {\n",
       "        vertical-align: top;\n",
       "    }\n",
       "\n",
       "    .dataframe thead th {\n",
       "        text-align: right;\n",
       "    }\n",
       "</style>\n",
       "<table border=\"1\" class=\"dataframe\">\n",
       "  <thead>\n",
       "    <tr style=\"text-align: right;\">\n",
       "      <th></th>\n",
       "      <th>Input</th>\n",
       "      <th>Output</th>\n",
       "    </tr>\n",
       "  </thead>\n",
       "  <tbody>\n",
       "    <tr>\n",
       "      <th>0</th>\n",
       "      <td>eat</td>\n",
       "      <td>food</td>\n",
       "    </tr>\n",
       "    <tr>\n",
       "      <th>1</th>\n",
       "      <td>food</td>\n",
       "      <td>eat</td>\n",
       "    </tr>\n",
       "    <tr>\n",
       "      <th>2</th>\n",
       "      <td>drink</td>\n",
       "      <td>ice</td>\n",
       "    </tr>\n",
       "    <tr>\n",
       "      <th>3</th>\n",
       "      <td>drink</td>\n",
       "      <td>water</td>\n",
       "    </tr>\n",
       "    <tr>\n",
       "      <th>4</th>\n",
       "      <td>ice</td>\n",
       "      <td>drink</td>\n",
       "    </tr>\n",
       "  </tbody>\n",
       "</table>\n",
       "</div>"
      ],
      "text/plain": [
       "   Input Output\n",
       "0    eat   food\n",
       "1   food    eat\n",
       "2  drink    ice\n",
       "3  drink  water\n",
       "4    ice  drink"
      ]
     },
     "execution_count": 9,
     "metadata": {},
     "output_type": "execute_result"
    }
   ],
   "source": [
    "train_emb = prepare_set_ravel(corpus, n_gram = 2)\n",
    "train_emb.head()"
   ]
  },
  {
   "cell_type": "code",
   "execution_count": 10,
   "metadata": {},
   "outputs": [
    {
     "data": {
      "text/html": [
       "<div>\n",
       "<style scoped>\n",
       "    .dataframe tbody tr th:only-of-type {\n",
       "        vertical-align: middle;\n",
       "    }\n",
       "\n",
       "    .dataframe tbody tr th {\n",
       "        vertical-align: top;\n",
       "    }\n",
       "\n",
       "    .dataframe thead th {\n",
       "        text-align: right;\n",
       "    }\n",
       "</style>\n",
       "<table border=\"1\" class=\"dataframe\">\n",
       "  <thead>\n",
       "    <tr style=\"text-align: right;\">\n",
       "      <th></th>\n",
       "      <th>Input</th>\n",
       "      <th>Output</th>\n",
       "    </tr>\n",
       "  </thead>\n",
       "  <tbody>\n",
       "    <tr>\n",
       "      <th>0</th>\n",
       "      <td>0</td>\n",
       "      <td>1</td>\n",
       "    </tr>\n",
       "    <tr>\n",
       "      <th>1</th>\n",
       "      <td>1</td>\n",
       "      <td>0</td>\n",
       "    </tr>\n",
       "    <tr>\n",
       "      <th>2</th>\n",
       "      <td>2</td>\n",
       "      <td>3</td>\n",
       "    </tr>\n",
       "    <tr>\n",
       "      <th>3</th>\n",
       "      <td>2</td>\n",
       "      <td>4</td>\n",
       "    </tr>\n",
       "    <tr>\n",
       "      <th>4</th>\n",
       "      <td>3</td>\n",
       "      <td>2</td>\n",
       "    </tr>\n",
       "  </tbody>\n",
       "</table>\n",
       "</div>"
      ],
      "text/plain": [
       "   Input  Output\n",
       "0      0       1\n",
       "1      1       0\n",
       "2      2       3\n",
       "3      2       4\n",
       "4      3       2"
      ]
     },
     "execution_count": 10,
     "metadata": {},
     "output_type": "execute_result"
    }
   ],
   "source": [
    "train_emb.Input = train_emb.Input.map(vocabulary)\n",
    "train_emb.Output = train_emb.Output.map(vocabulary)\n",
    "train_emb.head()"
   ]
  },
  {
   "cell_type": "code",
   "execution_count": 11,
   "metadata": {},
   "outputs": [],
   "source": [
    "vocab_size = len(vocabulary)\n",
    "\n",
    "def get_input_tensor(tensor):\n",
    "    '''Transform 1D tensor of word indexes to one-hot encoded 2D tensor'''\n",
    "    size = [*tensor.shape][0]\n",
    "    inp = torch.zeros(size, vocab_size).scatter_(1, tensor.unsqueeze(1), 1.)\n",
    "    return Variable(inp).float()"
   ]
  },
  {
   "cell_type": "code",
   "execution_count": 12,
   "metadata": {},
   "outputs": [],
   "source": [
    "embedding_dims = 5\n",
    "device = torch.device('cpu')"
   ]
  },
  {
   "cell_type": "code",
   "execution_count": 13,
   "metadata": {},
   "outputs": [
    {
     "name": "stdout",
     "output_type": "stream",
     "text": [
      "W1 shape is: torch.Size([22, 5]), W2 shape is: torch.Size([5, 22])\n"
     ]
    }
   ],
   "source": [
    "initrange = 0.5 / embedding_dims\n",
    "W1 = Variable(torch.randn(vocab_size, embedding_dims, device=device).uniform_(-initrange, initrange).float(), requires_grad=True) # shape V*H\n",
    "W2 = Variable(torch.randn(embedding_dims, vocab_size, device=device).uniform_(-initrange, initrange).float(), requires_grad=True) #shape H*V\n",
    "print(f'W1 shape is: {W1.shape}, W2 shape is: {W2.shape}')\n",
    "\n"
   ]
  },
  {
   "cell_type": "code",
   "execution_count": 14,
   "metadata": {},
   "outputs": [],
   "source": [
    "num_epochs = 2000\n",
    "learning_rate = 2e-1\n",
    "lr_decay = 0.99\n",
    "loss_hist = []"
   ]
  },
  {
   "cell_type": "code",
   "execution_count": 15,
   "metadata": {},
   "outputs": [
    {
     "name": "stdout",
     "output_type": "stream",
     "text": [
      "Epoch 0, loss = 3.0907812118530273\n",
      "Epoch 50, loss = 2.782062292098999\n",
      "Epoch 100, loss = 1.331791877746582\n",
      "Epoch 150, loss = 0.9503133296966553\n",
      "Epoch 200, loss = 0.8677059412002563\n",
      "Epoch 250, loss = 0.861615777015686\n",
      "Epoch 300, loss = 0.9515153765678406\n",
      "Epoch 350, loss = 1.1333270072937012\n",
      "Epoch 400, loss = 1.2854918241500854\n",
      "Epoch 450, loss = 1.3707318305969238\n",
      "Epoch 500, loss = 1.3555594682693481\n",
      "Epoch 550, loss = 1.3332288265228271\n",
      "Epoch 600, loss = 1.2586188316345215\n",
      "Epoch 650, loss = 1.151679277420044\n",
      "Epoch 700, loss = 1.073954463005066\n",
      "Epoch 750, loss = 1.0077491998672485\n",
      "Epoch 800, loss = 0.9684407711029053\n",
      "Epoch 850, loss = 0.9424553513526917\n",
      "Epoch 900, loss = 0.9172224402427673\n",
      "Epoch 950, loss = 0.8997395038604736\n",
      "Epoch 1000, loss = 0.8887062072753906\n",
      "Epoch 1050, loss = 0.8783007264137268\n",
      "Epoch 1100, loss = 0.8692291378974915\n",
      "Epoch 1150, loss = 0.8665425777435303\n",
      "Epoch 1200, loss = 0.8662704825401306\n",
      "Epoch 1250, loss = 0.8657791614532471\n",
      "Epoch 1300, loss = 0.8653044104576111\n",
      "Epoch 1350, loss = 0.867087721824646\n",
      "Epoch 1400, loss = 0.8675059676170349\n",
      "Epoch 1450, loss = 0.8672521114349365\n",
      "Epoch 1500, loss = 0.8671048879623413\n",
      "Epoch 1550, loss = 0.8669437170028687\n",
      "Epoch 1600, loss = 0.866680383682251\n",
      "Epoch 1650, loss = 0.86618971824646\n",
      "Epoch 1700, loss = 0.8656314611434937\n",
      "Epoch 1750, loss = 0.8651824593544006\n",
      "Epoch 1800, loss = 0.8646141290664673\n",
      "Epoch 1850, loss = 0.8639511466026306\n",
      "Epoch 1900, loss = 0.8633435964584351\n",
      "Epoch 1950, loss = 0.8628149032592773\n",
      "Wall time: 2.43 s\n"
     ]
    }
   ],
   "source": [
    "%%time\n",
    "for epo in range(num_epochs):\n",
    "    for x,y in zip(DataLoader(train_emb.Input.values, batch_size=train_emb.shape[0]), DataLoader(train_emb.Output.values, batch_size=train_emb.shape[0])):\n",
    "        \n",
    "        # one-hot encode input tensor\n",
    "        input_tensor = get_input_tensor(x) #shape N*V\n",
    "     \n",
    "        # simple NN architecture\n",
    "        h = input_tensor.mm(W1) # shape 1*H\n",
    "        y_pred = h.mm(W2) # shape 1*V\n",
    "        \n",
    "        # define loss func\n",
    "        loss_f = torch.nn.CrossEntropyLoss() # see details: https://pytorch.org/docs/stable/nn.html\n",
    "        \n",
    "        #compute loss\n",
    "        loss = loss_f(y_pred, y)\n",
    "        \n",
    "        # bakpropagation step\n",
    "        loss.backward()\n",
    "        with torch.no_grad():\n",
    "            # SGD optimization is implemented in PyTorch, but it's very easy to implement manually providing better understanding of process\n",
    "            W1 -= learning_rate*W1.grad.data\n",
    "            W2 -= learning_rate*W2.grad.data\n",
    "            # zero gradients for next step\n",
    "            W1.grad.data.zero_()\n",
    "            W1.grad.data.zero_()\n",
    "    if epo%10 == 0:\n",
    "        learning_rate *= lr_decay\n",
    "    loss_hist.append(loss)\n",
    "    if epo%50 == 0:\n",
    "        print(f'Epoch {epo}, loss = {loss}')\n",
    "    "
   ]
  },
  {
   "cell_type": "code",
   "execution_count": 16,
   "metadata": {},
   "outputs": [],
   "source": [
    "W1 = W1.detach().numpy()\n",
    "W2 = W2.T.detach().numpy()"
   ]
  },
  {
   "cell_type": "code",
   "execution_count": 17,
   "metadata": {},
   "outputs": [
    {
     "data": {
      "image/png": "[encoded data removed]",
      "text/plain": [
       "<Figure size 720x576 with 1 Axes>"
      ]
     },
     "metadata": {
      "needs_background": "light"
     },
     "output_type": "display_data"
    }
   ],
   "source": [
    "svd = decomposition.TruncatedSVD(n_components=2)\n",
    "W1_dec = svd.fit_transform(W1)\n",
    "x = W1_dec[:,0]\n",
    "y = W1_dec[:,1]\n",
    "plot = sns.scatterplot(x, y)\n",
    "\n",
    "for i in range(0,W1_dec.shape[0]):\n",
    "     plot.text(x[i], y[i]+2e-2, list(vocabulary.keys())[i], horizontalalignment='center', size='small', color='black', weight='semibold');"
   ]
  },
  {
   "cell_type": "code",
   "execution_count": 18,
   "metadata": {},
   "outputs": [
    {
     "data": {
      "image/png": "[encoded data removed]",
      "text/plain": [
       "<Figure size 720x576 with 1 Axes>"
      ]
     },
     "metadata": {
      "needs_background": "light"
     },
     "output_type": "display_data"
    }
   ],
   "source": [
    "W2_dec = svd.fit_transform(W2)\n",
    "x1 = W2_dec[:,0]\n",
    "y1 = W2_dec[:,1]\n",
    "plot1 = sns.scatterplot(x1, y1)\n",
    "for i in range(0,W2_dec.shape[0]):\n",
    "     plot1.text(x1[i], y1[i]+1, list(vocabulary.keys())[i], horizontalalignment='center', size='small', color='black', weight='semibold');"
   ]
  },
  {
   "cell_type": "code",
   "execution_count": null,
   "metadata": {},
   "outputs": [],
   "source": []
  }
 ],
 "metadata": {
  "kernelspec": {
   "display_name": "Python 3",
   "language": "python",
   "name": "python3"
  },
  "language_info": {
   "codemirror_mode": {
    "name": "ipython",
    "version": 3
   },
   "file_extension": ".py",
   "mimetype": "text/x-python",
   "name": "python",
   "nbconvert_exporter": "python",
   "pygments_lexer": "ipython3",
   "version": "3.6.10"
  }
 },
 "nbformat": 4,
 "nbformat_minor": 4
}
